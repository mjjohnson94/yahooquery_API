{
 "cells": [
  {
   "cell_type": "code",
   "execution_count": 2,
   "metadata": {},
   "outputs": [
    {
     "data": {
      "text/plain": [
       "{'WES.AX': {'maxAge': 1,\n",
       "  'priceHint': 2,\n",
       "  'previousClose': 48.05,\n",
       "  'open': 48.27,\n",
       "  'dayLow': 48.18,\n",
       "  'dayHigh': 49.48,\n",
       "  'regularMarketPreviousClose': 48.05,\n",
       "  'regularMarketOpen': 48.27,\n",
       "  'regularMarketDayLow': 48.18,\n",
       "  'regularMarketDayHigh': 49.48,\n",
       "  'dividendRate': 1.76,\n",
       "  'dividendYield': 0.0365,\n",
       "  'exDividendDate': '2023-02-20 11:00:00',\n",
       "  'payoutRatio': 0.8083,\n",
       "  'fiveYearAvgDividendYield': 4.14,\n",
       "  'beta': 0.729636,\n",
       "  'trailingPE': 22.166666,\n",
       "  'forwardPE': 21.30303,\n",
       "  'volume': 1413871,\n",
       "  'regularMarketVolume': 1413871,\n",
       "  'averageVolume': 1590879,\n",
       "  'averageVolume10days': 1790323,\n",
       "  'averageDailyVolume10Day': 1790323,\n",
       "  'bid': 49.21,\n",
       "  'ask': 49.38,\n",
       "  'bidSize': 31900,\n",
       "  'askSize': 40600,\n",
       "  'marketCap': 55829233664,\n",
       "  'fiftyTwoWeekLow': 40.03,\n",
       "  'fiftyTwoWeekHigh': 51.66,\n",
       "  'priceToSalesTrailing12Months': 1.3408241,\n",
       "  'fiftyDayAverage': 48.527,\n",
       "  'twoHundredDayAverage': 46.59815,\n",
       "  'trailingAnnualDividendRate': 1.88,\n",
       "  'trailingAnnualDividendYield': 0.039125912,\n",
       "  'currency': 'AUD',\n",
       "  'fromCurrency': None,\n",
       "  'toCurrency': None,\n",
       "  'lastMarket': None,\n",
       "  'coinMarketCapLink': None,\n",
       "  'algorithm': None,\n",
       "  'tradeable': False}}"
      ]
     },
     "execution_count": 2,
     "metadata": {},
     "output_type": "execute_result"
    }
   ],
   "source": [
    "from yahooquery import Ticker\n",
    "\n",
    "aapl = Ticker('WES.AX')\n",
    "\n",
    "aapl.summary_detail"
   ]
  },
  {
   "cell_type": "code",
   "execution_count": null,
   "metadata": {},
   "outputs": [],
   "source": []
  }
 ],
 "metadata": {
  "kernelspec": {
   "display_name": "Python 3",
   "language": "python",
   "name": "python3"
  },
  "language_info": {
   "codemirror_mode": {
    "name": "ipython",
    "version": 3
   },
   "file_extension": ".py",
   "mimetype": "text/x-python",
   "name": "python",
   "nbconvert_exporter": "python",
   "pygments_lexer": "ipython3",
   "version": "3.8.5"
  }
 },
 "nbformat": 4,
 "nbformat_minor": 4
}
