{
 "cells": [
  {
   "cell_type": "code",
   "execution_count": 19,
   "metadata": {},
   "outputs": [],
   "source": [
    "## Import Ticker class from yahooquery library \n",
    "# To access data from yahooquery, an argument (Company ticker symbol) is passed to the Ticker class \n",
    "\n",
    "from yahooquery import Ticker"
   ]
  },
  {
   "cell_type": "code",
   "execution_count": 20,
   "metadata": {},
   "outputs": [],
   "source": [
    "## Create instance of Ticker class & pass argument (Company ticker symbol)\n",
    "\n",
    "XDJ = Ticker(['WES.AX',\n",
    "'HVN.AX',\n",
    " 'JBH.AX',\n",
    " 'PMV.AX',\n",
    " 'APE.AX',\n",
    " 'SUL.AX',\n",
    " 'WEB.AX',\n",
    " 'LOV.AX',\n",
    " 'BAP.AX',\n",
    " 'AX1.AX',\n",
    " 'BGP.AX',\n",
    " 'NCK.AX',\n",
    " 'MYR.AX',\n",
    " 'KMD.AX',\n",
    " 'CTT.AX'])"
   ]
  },
  {
   "cell_type": "code",
   "execution_count": 22,
   "metadata": {},
   "outputs": [],
   "source": [
    "x = XDJ.income_statement()"
   ]
  }
 ],
 "metadata": {
  "kernelspec": {
   "display_name": "Python 3",
   "language": "python",
   "name": "python3"
  },
  "language_info": {
   "codemirror_mode": {
    "name": "ipython",
    "version": 3
   },
   "file_extension": ".py",
   "mimetype": "text/x-python",
   "name": "python",
   "nbconvert_exporter": "python",
   "pygments_lexer": "ipython3",
   "version": "3.8.5"
  }
 },
 "nbformat": 4,
 "nbformat_minor": 4
}
