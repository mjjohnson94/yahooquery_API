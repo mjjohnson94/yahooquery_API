{
 "cells": [
  {
   "cell_type": "code",
   "execution_count": 1,
   "metadata": {},
   "outputs": [],
   "source": [
    "## Import Ticker class from yahooquery library \n",
    "# To access data from yahooquery, an argument (Company ticker symbol) is passed to the Ticker class \n",
    "\n",
    "from yahooquery import Ticker"
   ]
  },
  {
   "cell_type": "code",
   "execution_count": 2,
   "metadata": {},
   "outputs": [],
   "source": [
    "## Create instance of Ticker class & pass argument (Company ticker symbol)\n",
    "\n",
    "WES_ASX = Ticker(['WES.AX'])"
   ]
  },
  {
   "cell_type": "code",
   "execution_count": 3,
   "metadata": {},
   "outputs": [],
   "source": [
    "incomeStatement = WES_ASX.income_statement()\n",
    "\n",
    "incomeStatement.head()"
   ]
  },
  {
   "cell_type": "code",
   "execution_count": 7,
   "metadata": {},
   "outputs": [
    {
     "data": {
      "text/plain": [
       "['asOfDate',\n",
       " 'periodType',\n",
       " 'currencyCode',\n",
       " 'Amortization',\n",
       " 'AmortizationOfIntangiblesIncomeStatement',\n",
       " 'BasicAverageShares',\n",
       " 'BasicEPS',\n",
       " 'CostOfRevenue',\n",
       " 'DepreciationAmortizationDepletionIncomeStatement',\n",
       " 'DepreciationAndAmortizationInIncomeStatement',\n",
       " 'DepreciationIncomeStatement',\n",
       " 'DilutedAverageShares',\n",
       " 'DilutedEPS',\n",
       " 'EBIT',\n",
       " 'EBITDA',\n",
       " 'EarningsFromEquityInterest',\n",
       " 'GainOnSaleOfPPE',\n",
       " 'GeneralAndAdministrativeExpense',\n",
       " 'GrossProfit',\n",
       " 'ImpairmentOfCapitalAssets',\n",
       " 'InterestExpense',\n",
       " 'InterestExpenseNonOperating',\n",
       " 'InterestIncome',\n",
       " 'InterestIncomeNonOperating',\n",
       " 'NetIncome',\n",
       " 'NetIncomeCommonStockholders',\n",
       " 'NetIncomeContinuousOperations',\n",
       " 'NetIncomeDiscontinuousOperations',\n",
       " 'NetIncomeFromContinuingAndDiscontinuedOperation',\n",
       " 'NetIncomeFromContinuingOperationNetMinorityInterest',\n",
       " 'NetIncomeIncludingNoncontrollingInterests',\n",
       " 'NetInterestIncome',\n",
       " 'NetNonOperatingInterestIncomeExpense',\n",
       " 'NormalizedEBITDA',\n",
       " 'NormalizedIncome',\n",
       " 'OperatingExpense',\n",
       " 'OperatingIncome',\n",
       " 'OperatingRevenue',\n",
       " 'OtherGandA',\n",
       " 'OtherIncomeExpense',\n",
       " 'OtherNonOperatingIncomeExpenses',\n",
       " 'OtherOperatingExpenses',\n",
       " 'PretaxIncome',\n",
       " 'ProvisionForDoubtfulAccounts',\n",
       " 'ReconciledCostOfRevenue',\n",
       " 'ReconciledDepreciation',\n",
       " 'RentAndLandingFees',\n",
       " 'SalariesAndWages',\n",
       " 'SellingAndMarketingExpense',\n",
       " 'SellingGeneralAndAdministration',\n",
       " 'SpecialIncomeCharges',\n",
       " 'TaxEffectOfUnusualItems',\n",
       " 'TaxProvision',\n",
       " 'TaxRateForCalcs',\n",
       " 'TotalOtherFinanceCost',\n",
       " 'TotalRevenue',\n",
       " 'TotalUnusualItems',\n",
       " 'TotalUnusualItemsExcludingGoodwill']"
      ]
     },
     "execution_count": 7,
     "metadata": {},
     "output_type": "execute_result"
    }
   ],
   "source": [
    "list(incomeStatement.columns)"
   ]
  },
  {
   "cell_type": "code",
   "execution_count": null,
   "metadata": {},
   "outputs": [],
   "source": []
  }
 ],
 "metadata": {
  "kernelspec": {
   "display_name": "Python 3",
   "language": "python",
   "name": "python3"
  },
  "language_info": {
   "codemirror_mode": {
    "name": "ipython",
    "version": 3
   },
   "file_extension": ".py",
   "mimetype": "text/x-python",
   "name": "python",
   "nbconvert_exporter": "python",
   "pygments_lexer": "ipython3",
   "version": "3.8.5"
  }
 },
 "nbformat": 4,
 "nbformat_minor": 4
}
