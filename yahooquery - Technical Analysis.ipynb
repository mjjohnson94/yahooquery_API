{
 "cells": [
  {
   "cell_type": "code",
   "execution_count": 1,
   "metadata": {},
   "outputs": [],
   "source": [
    "## Import Ticker class from yahooquery library \n",
    "# To access data from yahooquery, an argument (Company ticker symbol) is passed to the Ticker class \n",
    "\n",
    "from yahooquery import Ticker\n",
    "import pandas as pd"
   ]
  },
  {
   "cell_type": "code",
   "execution_count": 8,
   "metadata": {},
   "outputs": [],
   "source": [
    "## Create instance of Ticker class (Company ticker symbol)\n",
    "\n",
    "WES_ASX = Ticker(['VOO'])"
   ]
  },
  {
   "cell_type": "code",
   "execution_count": 11,
   "metadata": {},
   "outputs": [],
   "source": [
    "# Select History from Ticker class, this will return a DataFrame of historical stock price data \n",
    "# A period of 5 years has been selected for historical analysis \n",
    "\n",
    "stockPrice = WES_ASX.history(period=\"10y\")\n",
    "\n",
    "# Print results \n",
    "\n",
    "stockPrice = stockPrice.reset_index()"
   ]
  },
  {
   "cell_type": "code",
   "execution_count": 12,
   "metadata": {},
   "outputs": [
    {
     "data": {
      "text/html": [
       "<div>\n",
       "<style scoped>\n",
       "    .dataframe tbody tr th:only-of-type {\n",
       "        vertical-align: middle;\n",
       "    }\n",
       "\n",
       "    .dataframe tbody tr th {\n",
       "        vertical-align: top;\n",
       "    }\n",
       "\n",
       "    .dataframe thead th {\n",
       "        text-align: right;\n",
       "    }\n",
       "</style>\n",
       "<table border=\"1\" class=\"dataframe\">\n",
       "  <thead>\n",
       "    <tr style=\"text-align: right;\">\n",
       "      <th></th>\n",
       "      <th>symbol</th>\n",
       "      <th>date</th>\n",
       "      <th>open</th>\n",
       "      <th>high</th>\n",
       "      <th>low</th>\n",
       "      <th>close</th>\n",
       "      <th>volume</th>\n",
       "      <th>adjclose</th>\n",
       "      <th>dividends</th>\n",
       "      <th>splits</th>\n",
       "    </tr>\n",
       "  </thead>\n",
       "  <tbody>\n",
       "    <tr>\n",
       "      <th>0</th>\n",
       "      <td>VOO</td>\n",
       "      <td>2013-06-17</td>\n",
       "      <td>150.479996</td>\n",
       "      <td>151.279999</td>\n",
       "      <td>149.779999</td>\n",
       "      <td>150.600006</td>\n",
       "      <td>1048100</td>\n",
       "      <td>125.455284</td>\n",
       "      <td>0.0</td>\n",
       "      <td>0.0</td>\n",
       "    </tr>\n",
       "    <tr>\n",
       "      <th>1</th>\n",
       "      <td>VOO</td>\n",
       "      <td>2013-06-18</td>\n",
       "      <td>150.699997</td>\n",
       "      <td>152.000000</td>\n",
       "      <td>150.699997</td>\n",
       "      <td>151.759995</td>\n",
       "      <td>1033300</td>\n",
       "      <td>126.421600</td>\n",
       "      <td>0.0</td>\n",
       "      <td>0.0</td>\n",
       "    </tr>\n",
       "    <tr>\n",
       "      <th>2</th>\n",
       "      <td>VOO</td>\n",
       "      <td>2013-06-19</td>\n",
       "      <td>151.679993</td>\n",
       "      <td>151.940002</td>\n",
       "      <td>149.660004</td>\n",
       "      <td>149.740005</td>\n",
       "      <td>990950</td>\n",
       "      <td>124.738892</td>\n",
       "      <td>0.0</td>\n",
       "      <td>0.0</td>\n",
       "    </tr>\n",
       "    <tr>\n",
       "      <th>3</th>\n",
       "      <td>VOO</td>\n",
       "      <td>2013-06-20</td>\n",
       "      <td>148.220001</td>\n",
       "      <td>148.440002</td>\n",
       "      <td>145.559998</td>\n",
       "      <td>145.940002</td>\n",
       "      <td>1686200</td>\n",
       "      <td>121.573349</td>\n",
       "      <td>0.0</td>\n",
       "      <td>0.0</td>\n",
       "    </tr>\n",
       "    <tr>\n",
       "      <th>4</th>\n",
       "      <td>VOO</td>\n",
       "      <td>2013-06-21</td>\n",
       "      <td>146.960007</td>\n",
       "      <td>147.100006</td>\n",
       "      <td>144.979996</td>\n",
       "      <td>146.399994</td>\n",
       "      <td>1565400</td>\n",
       "      <td>121.956543</td>\n",
       "      <td>0.0</td>\n",
       "      <td>0.0</td>\n",
       "    </tr>\n",
       "    <tr>\n",
       "      <th>...</th>\n",
       "      <td>...</td>\n",
       "      <td>...</td>\n",
       "      <td>...</td>\n",
       "      <td>...</td>\n",
       "      <td>...</td>\n",
       "      <td>...</td>\n",
       "      <td>...</td>\n",
       "      <td>...</td>\n",
       "      <td>...</td>\n",
       "      <td>...</td>\n",
       "    </tr>\n",
       "    <tr>\n",
       "      <th>2513</th>\n",
       "      <td>VOO</td>\n",
       "      <td>2023-06-09</td>\n",
       "      <td>395.049988</td>\n",
       "      <td>396.929993</td>\n",
       "      <td>394.079987</td>\n",
       "      <td>395.029999</td>\n",
       "      <td>3060100</td>\n",
       "      <td>395.029999</td>\n",
       "      <td>0.0</td>\n",
       "      <td>0.0</td>\n",
       "    </tr>\n",
       "    <tr>\n",
       "      <th>2514</th>\n",
       "      <td>VOO</td>\n",
       "      <td>2023-06-12</td>\n",
       "      <td>395.980011</td>\n",
       "      <td>398.690002</td>\n",
       "      <td>395.299988</td>\n",
       "      <td>398.660004</td>\n",
       "      <td>3792700</td>\n",
       "      <td>398.660004</td>\n",
       "      <td>0.0</td>\n",
       "      <td>0.0</td>\n",
       "    </tr>\n",
       "    <tr>\n",
       "      <th>2515</th>\n",
       "      <td>VOO</td>\n",
       "      <td>2023-06-13</td>\n",
       "      <td>400.019989</td>\n",
       "      <td>401.850006</td>\n",
       "      <td>399.399994</td>\n",
       "      <td>401.290009</td>\n",
       "      <td>3913100</td>\n",
       "      <td>401.290009</td>\n",
       "      <td>0.0</td>\n",
       "      <td>0.0</td>\n",
       "    </tr>\n",
       "    <tr>\n",
       "      <th>2516</th>\n",
       "      <td>VOO</td>\n",
       "      <td>2023-06-14</td>\n",
       "      <td>401.609985</td>\n",
       "      <td>403.440002</td>\n",
       "      <td>398.459991</td>\n",
       "      <td>401.600006</td>\n",
       "      <td>5161300</td>\n",
       "      <td>401.600006</td>\n",
       "      <td>0.0</td>\n",
       "      <td>0.0</td>\n",
       "    </tr>\n",
       "    <tr>\n",
       "      <th>2517</th>\n",
       "      <td>VOO</td>\n",
       "      <td>2023-06-15</td>\n",
       "      <td>401.000000</td>\n",
       "      <td>407.929993</td>\n",
       "      <td>400.890015</td>\n",
       "      <td>406.750000</td>\n",
       "      <td>5265600</td>\n",
       "      <td>406.750000</td>\n",
       "      <td>0.0</td>\n",
       "      <td>0.0</td>\n",
       "    </tr>\n",
       "  </tbody>\n",
       "</table>\n",
       "<p>2518 rows × 10 columns</p>\n",
       "</div>"
      ],
      "text/plain": [
       "     symbol        date        open        high         low       close  \\\n",
       "0       VOO  2013-06-17  150.479996  151.279999  149.779999  150.600006   \n",
       "1       VOO  2013-06-18  150.699997  152.000000  150.699997  151.759995   \n",
       "2       VOO  2013-06-19  151.679993  151.940002  149.660004  149.740005   \n",
       "3       VOO  2013-06-20  148.220001  148.440002  145.559998  145.940002   \n",
       "4       VOO  2013-06-21  146.960007  147.100006  144.979996  146.399994   \n",
       "...     ...         ...         ...         ...         ...         ...   \n",
       "2513    VOO  2023-06-09  395.049988  396.929993  394.079987  395.029999   \n",
       "2514    VOO  2023-06-12  395.980011  398.690002  395.299988  398.660004   \n",
       "2515    VOO  2023-06-13  400.019989  401.850006  399.399994  401.290009   \n",
       "2516    VOO  2023-06-14  401.609985  403.440002  398.459991  401.600006   \n",
       "2517    VOO  2023-06-15  401.000000  407.929993  400.890015  406.750000   \n",
       "\n",
       "       volume    adjclose  dividends  splits  \n",
       "0     1048100  125.455284        0.0     0.0  \n",
       "1     1033300  126.421600        0.0     0.0  \n",
       "2      990950  124.738892        0.0     0.0  \n",
       "3     1686200  121.573349        0.0     0.0  \n",
       "4     1565400  121.956543        0.0     0.0  \n",
       "...       ...         ...        ...     ...  \n",
       "2513  3060100  395.029999        0.0     0.0  \n",
       "2514  3792700  398.660004        0.0     0.0  \n",
       "2515  3913100  401.290009        0.0     0.0  \n",
       "2516  5161300  401.600006        0.0     0.0  \n",
       "2517  5265600  406.750000        0.0     0.0  \n",
       "\n",
       "[2518 rows x 10 columns]"
      ]
     },
     "execution_count": 12,
     "metadata": {},
     "output_type": "execute_result"
    }
   ],
   "source": [
    "stockPrice"
   ]
  },
  {
   "cell_type": "code",
   "execution_count": 35,
   "metadata": {},
   "outputs": [
    {
     "data": {
      "text/plain": [
       "<AxesSubplot:xlabel='date'>"
      ]
     },
     "execution_count": 35,
     "metadata": {},
     "output_type": "execute_result"
    },
    {
     "data": {
      "image/png": "[encoded data removed]",
      "text/plain": [
       "<Figure size 432x288 with 1 Axes>"
      ]
     },
     "metadata": {
      "needs_background": "light"
     },
     "output_type": "display_data"
    }
   ],
   "source": [
    "stockPrice['date'] = pd.to_datetime(stockPrice['date'])\n",
    "\n",
    "averageClose = pd.DataFrame(stockPrice.groupby(stockPrice.date.dt.year)['close'].mean())\n",
    "\n",
    "plot = averageClose.plot.line()\n",
    "\n",
    "plot"
   ]
  },
  {
   "cell_type": "code",
   "execution_count": 39,
   "metadata": {},
   "outputs": [
    {
     "data": {
      "text/plain": [
       "<AxesSubplot:ylabel='date'>"
      ]
     },
     "execution_count": 39,
     "metadata": {},
     "output_type": "execute_result"
    },
    {
     "data": {
      "image/png": "[encoded data removed]",
      "text/plain": [
       "<Figure size 432x288 with 1 Axes>"
      ]
     },
     "metadata": {
      "needs_background": "light"
     },
     "output_type": "display_data"
    }
   ],
   "source": [
    "annualDelta = averageClose.pct_change()\n",
    "\n",
    "bar = annualDelta.plot.barh()\n",
    "\n",
    "bar"
   ]
  },
  {
   "cell_type": "code",
   "execution_count": null,
   "metadata": {},
   "outputs": [],
   "source": []
  }
 ],
 "metadata": {
  "kernelspec": {
   "display_name": "Python 3",
   "language": "python",
   "name": "python3"
  },
  "language_info": {
   "codemirror_mode": {
    "name": "ipython",
    "version": 3
   },
   "file_extension": ".py",
   "mimetype": "text/x-python",
   "name": "python",
   "nbconvert_exporter": "python",
   "pygments_lexer": "ipython3",
   "version": "3.8.5"
  }
 },
 "nbformat": 4,
 "nbformat_minor": 4
}
