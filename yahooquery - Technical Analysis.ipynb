{
 "cells": [
  {
   "cell_type": "code",
   "execution_count": 1,
   "metadata": {},
   "outputs": [],
   "source": [
    "## Import Ticker class from yahooquery library \n",
    "# To access data from yahooquery, an argument (Company ticker symbol) is passed to the Ticker class \n",
    "\n",
    "from yahooquery import Ticker\n",
    "import pandas as pd"
   ]
  },
  {
   "cell_type": "code",
   "execution_count": 8,
   "metadata": {},
   "outputs": [],
   "source": [
    "## Create instance of Ticker class (Company ticker symbol)\n",
    "\n",
    "WES_ASX = Ticker(['VOO'])"
   ]
  },
  {
   "cell_type": "code",
   "execution_count": 59,
   "metadata": {},
   "outputs": [],
   "source": [
    "# Select History from Ticker class, this will return a DataFrame of historical stock price data \n",
    "# A period of 5 years has been selected for historical analysis \n",
    "\n",
    "stockPrice = WES_ASX.history(period=\"max\")\n",
    "\n",
    "# Print results \n",
    "\n",
    "stockPrice = stockPrice.reset_index()"
   ]
  },
  {
   "cell_type": "code",
   "execution_count": 60,
   "metadata": {},
   "outputs": [
    {
     "data": {
      "text/html": [
       "<div>\n",
       "<style scoped>\n",
       "    .dataframe tbody tr th:only-of-type {\n",
       "        vertical-align: middle;\n",
       "    }\n",
       "\n",
       "    .dataframe tbody tr th {\n",
       "        vertical-align: top;\n",
       "    }\n",
       "\n",
       "    .dataframe thead th {\n",
       "        text-align: right;\n",
       "    }\n",
       "</style>\n",
       "<table border=\"1\" class=\"dataframe\">\n",
       "  <thead>\n",
       "    <tr style=\"text-align: right;\">\n",
       "      <th></th>\n",
       "      <th>symbol</th>\n",
       "      <th>date</th>\n",
       "      <th>open</th>\n",
       "      <th>high</th>\n",
       "      <th>low</th>\n",
       "      <th>close</th>\n",
       "      <th>volume</th>\n",
       "      <th>adjclose</th>\n",
       "      <th>dividends</th>\n",
       "      <th>splits</th>\n",
       "    </tr>\n",
       "  </thead>\n",
       "  <tbody>\n",
       "    <tr>\n",
       "      <th>0</th>\n",
       "      <td>VOO</td>\n",
       "      <td>2010-09-09</td>\n",
       "      <td>102.500000</td>\n",
       "      <td>102.500000</td>\n",
       "      <td>101.139999</td>\n",
       "      <td>101.320000</td>\n",
       "      <td>26500</td>\n",
       "      <td>79.681946</td>\n",
       "      <td>0.0</td>\n",
       "      <td>0.0</td>\n",
       "    </tr>\n",
       "    <tr>\n",
       "      <th>1</th>\n",
       "      <td>VOO</td>\n",
       "      <td>2010-09-10</td>\n",
       "      <td>101.680000</td>\n",
       "      <td>101.860001</td>\n",
       "      <td>101.300003</td>\n",
       "      <td>101.779999</td>\n",
       "      <td>8600</td>\n",
       "      <td>80.043701</td>\n",
       "      <td>0.0</td>\n",
       "      <td>0.0</td>\n",
       "    </tr>\n",
       "    <tr>\n",
       "      <th>2</th>\n",
       "      <td>VOO</td>\n",
       "      <td>2010-09-13</td>\n",
       "      <td>102.959999</td>\n",
       "      <td>103.139999</td>\n",
       "      <td>102.500000</td>\n",
       "      <td>103.059998</td>\n",
       "      <td>33750</td>\n",
       "      <td>81.050339</td>\n",
       "      <td>0.0</td>\n",
       "      <td>0.0</td>\n",
       "    </tr>\n",
       "    <tr>\n",
       "      <th>3</th>\n",
       "      <td>VOO</td>\n",
       "      <td>2010-09-14</td>\n",
       "      <td>102.839996</td>\n",
       "      <td>103.480003</td>\n",
       "      <td>102.379997</td>\n",
       "      <td>103.040001</td>\n",
       "      <td>59400</td>\n",
       "      <td>81.034607</td>\n",
       "      <td>0.0</td>\n",
       "      <td>0.0</td>\n",
       "    </tr>\n",
       "    <tr>\n",
       "      <th>4</th>\n",
       "      <td>VOO</td>\n",
       "      <td>2010-09-15</td>\n",
       "      <td>102.620003</td>\n",
       "      <td>103.379997</td>\n",
       "      <td>102.400002</td>\n",
       "      <td>103.300003</td>\n",
       "      <td>9250</td>\n",
       "      <td>81.239075</td>\n",
       "      <td>0.0</td>\n",
       "      <td>0.0</td>\n",
       "    </tr>\n",
       "    <tr>\n",
       "      <th>...</th>\n",
       "      <td>...</td>\n",
       "      <td>...</td>\n",
       "      <td>...</td>\n",
       "      <td>...</td>\n",
       "      <td>...</td>\n",
       "      <td>...</td>\n",
       "      <td>...</td>\n",
       "      <td>...</td>\n",
       "      <td>...</td>\n",
       "      <td>...</td>\n",
       "    </tr>\n",
       "    <tr>\n",
       "      <th>3209</th>\n",
       "      <td>VOO</td>\n",
       "      <td>2023-06-09</td>\n",
       "      <td>395.049988</td>\n",
       "      <td>396.929993</td>\n",
       "      <td>394.079987</td>\n",
       "      <td>395.029999</td>\n",
       "      <td>3060100</td>\n",
       "      <td>395.029999</td>\n",
       "      <td>0.0</td>\n",
       "      <td>0.0</td>\n",
       "    </tr>\n",
       "    <tr>\n",
       "      <th>3210</th>\n",
       "      <td>VOO</td>\n",
       "      <td>2023-06-12</td>\n",
       "      <td>395.980011</td>\n",
       "      <td>398.690002</td>\n",
       "      <td>395.299988</td>\n",
       "      <td>398.660004</td>\n",
       "      <td>3792700</td>\n",
       "      <td>398.660004</td>\n",
       "      <td>0.0</td>\n",
       "      <td>0.0</td>\n",
       "    </tr>\n",
       "    <tr>\n",
       "      <th>3211</th>\n",
       "      <td>VOO</td>\n",
       "      <td>2023-06-13</td>\n",
       "      <td>400.019989</td>\n",
       "      <td>401.850006</td>\n",
       "      <td>399.399994</td>\n",
       "      <td>401.290009</td>\n",
       "      <td>3913100</td>\n",
       "      <td>401.290009</td>\n",
       "      <td>0.0</td>\n",
       "      <td>0.0</td>\n",
       "    </tr>\n",
       "    <tr>\n",
       "      <th>3212</th>\n",
       "      <td>VOO</td>\n",
       "      <td>2023-06-14</td>\n",
       "      <td>401.609985</td>\n",
       "      <td>403.440002</td>\n",
       "      <td>398.459991</td>\n",
       "      <td>401.600006</td>\n",
       "      <td>5161300</td>\n",
       "      <td>401.600006</td>\n",
       "      <td>0.0</td>\n",
       "      <td>0.0</td>\n",
       "    </tr>\n",
       "    <tr>\n",
       "      <th>3213</th>\n",
       "      <td>VOO</td>\n",
       "      <td>2023-06-15</td>\n",
       "      <td>401.000000</td>\n",
       "      <td>407.929993</td>\n",
       "      <td>400.890015</td>\n",
       "      <td>406.750000</td>\n",
       "      <td>5265600</td>\n",
       "      <td>406.750000</td>\n",
       "      <td>0.0</td>\n",
       "      <td>0.0</td>\n",
       "    </tr>\n",
       "  </tbody>\n",
       "</table>\n",
       "<p>3214 rows × 10 columns</p>\n",
       "</div>"
      ],
      "text/plain": [
       "     symbol        date        open        high         low       close  \\\n",
       "0       VOO  2010-09-09  102.500000  102.500000  101.139999  101.320000   \n",
       "1       VOO  2010-09-10  101.680000  101.860001  101.300003  101.779999   \n",
       "2       VOO  2010-09-13  102.959999  103.139999  102.500000  103.059998   \n",
       "3       VOO  2010-09-14  102.839996  103.480003  102.379997  103.040001   \n",
       "4       VOO  2010-09-15  102.620003  103.379997  102.400002  103.300003   \n",
       "...     ...         ...         ...         ...         ...         ...   \n",
       "3209    VOO  2023-06-09  395.049988  396.929993  394.079987  395.029999   \n",
       "3210    VOO  2023-06-12  395.980011  398.690002  395.299988  398.660004   \n",
       "3211    VOO  2023-06-13  400.019989  401.850006  399.399994  401.290009   \n",
       "3212    VOO  2023-06-14  401.609985  403.440002  398.459991  401.600006   \n",
       "3213    VOO  2023-06-15  401.000000  407.929993  400.890015  406.750000   \n",
       "\n",
       "       volume    adjclose  dividends  splits  \n",
       "0       26500   79.681946        0.0     0.0  \n",
       "1        8600   80.043701        0.0     0.0  \n",
       "2       33750   81.050339        0.0     0.0  \n",
       "3       59400   81.034607        0.0     0.0  \n",
       "4        9250   81.239075        0.0     0.0  \n",
       "...       ...         ...        ...     ...  \n",
       "3209  3060100  395.029999        0.0     0.0  \n",
       "3210  3792700  398.660004        0.0     0.0  \n",
       "3211  3913100  401.290009        0.0     0.0  \n",
       "3212  5161300  401.600006        0.0     0.0  \n",
       "3213  5265600  406.750000        0.0     0.0  \n",
       "\n",
       "[3214 rows x 10 columns]"
      ]
     },
     "execution_count": 60,
     "metadata": {},
     "output_type": "execute_result"
    }
   ],
   "source": [
    "stockPrice"
   ]
  },
  {
   "cell_type": "code",
   "execution_count": 61,
   "metadata": {},
   "outputs": [
    {
     "data": {
      "text/plain": [
       "<AxesSubplot:xlabel='date'>"
      ]
     },
     "execution_count": 61,
     "metadata": {},
     "output_type": "execute_result"
    },
    {
     "data": {
      "image/png": "[encoded data removed]",
      "text/plain": [
       "<Figure size 432x288 with 1 Axes>"
      ]
     },
     "metadata": {
      "needs_background": "light"
     },
     "output_type": "display_data"
    }
   ],
   "source": [
    "stockPrice['date'] = pd.to_datetime(stockPrice['date'])\n",
    "\n",
    "averageClose = pd.DataFrame(stockPrice.groupby(stockPrice.date.dt.year)['close'].mean())\n",
    "\n",
    "plot = averageClose.plot.line()\n",
    "\n",
    "plot"
   ]
  },
  {
   "cell_type": "code",
   "execution_count": 62,
   "metadata": {},
   "outputs": [
    {
     "data": {
      "text/plain": [
       "<AxesSubplot:ylabel='date'>"
      ]
     },
     "execution_count": 62,
     "metadata": {},
     "output_type": "execute_result"
    },
    {
     "data": {
      "image/png": "[encoded data removed]",
      "text/plain": [
       "<Figure size 432x288 with 1 Axes>"
      ]
     },
     "metadata": {
      "needs_background": "light"
     },
     "output_type": "display_data"
    }
   ],
   "source": [
    "annualDelta = averageClose.pct_change()\n",
    "\n",
    "bar = annualDelta.plot.barh()\n",
    "\n",
    "bar"
   ]
  },
  {
   "cell_type": "code",
   "execution_count": 63,
   "metadata": {},
   "outputs": [
    {
     "data": {
      "text/plain": [
       "10.33"
      ]
     },
     "execution_count": 63,
     "metadata": {},
     "output_type": "execute_result"
    }
   ],
   "source": [
    "averageReturn = annualDelta['close'].mean()*100\n",
    "\n",
    "averageReturn.round(2)"
   ]
  }
 ],
 "metadata": {
  "kernelspec": {
   "display_name": "Python 3",
   "language": "python",
   "name": "python3"
  },
  "language_info": {
   "codemirror_mode": {
    "name": "ipython",
    "version": 3
   },
   "file_extension": ".py",
   "mimetype": "text/x-python",
   "name": "python",
   "nbconvert_exporter": "python",
   "pygments_lexer": "ipython3",
   "version": "3.8.5"
  }
 },
 "nbformat": 4,
 "nbformat_minor": 4
}
